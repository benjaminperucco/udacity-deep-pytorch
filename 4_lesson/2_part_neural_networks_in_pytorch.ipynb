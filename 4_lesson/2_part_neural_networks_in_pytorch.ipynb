{
 "cells": [
  {
   "cell_type": "markdown",
   "metadata": {},
   "source": [
    "# Neural networks with PyTorch\n",
    "\n",
    "Deep learning networks tend to be massive with dozens or hundreds of layers, that's where the term \"deep\" comes from. You can build one of these deep networks using only weight matrices as we did in the previous notebook, but in general it's very cumbersome and difficult to implement. PyTorch has a nice module `nn` that provides a nice way to efficiently build large neural networks."
   ]
  },
  {
   "cell_type": "code",
   "execution_count": 1,
   "metadata": {},
   "outputs": [],
   "source": [
    "# Import necessary packages\n",
    "\n",
    "%matplotlib inline\n",
    "%config InlineBackend.figure_format = 'retina'\n",
    "\n",
    "import numpy as np\n",
    "import torch\n",
    "\n",
    "import helper\n",
    "\n",
    "import matplotlib.pyplot as plt"
   ]
  },
  {
   "cell_type": "markdown",
   "metadata": {},
   "source": [
    "\n",
    "Now we're going to build a larger network that can solve a (formerly) difficult problem, identifying text in an image. Here we'll use the MNIST dataset which consists of greyscale handwritten digits. Each image is 28x28 pixels, you can see a sample below\n",
    "\n",
    "<img src='assets/mnist.png'>\n",
    "\n",
    "Our goal is to build a neural network that can take one of these images and predict the digit in the image.\n",
    "\n",
    "First up, we need to get our dataset. This is provided through the `torchvision` package. The code below will download the MNIST dataset, then create training and test datasets for us. Don't worry too much about the details here, you'll learn more about this later."
   ]
  },
  {
   "cell_type": "code",
   "execution_count": 2,
   "metadata": {},
   "outputs": [],
   "source": [
    "### Run this cell\n",
    "\n",
    "from torchvision import datasets, transforms\n",
    "\n",
    "# Define a transform to normalize the data\n",
    "transform = transforms.Compose([transforms.ToTensor(),\n",
    "                              transforms.Normalize((0.5,), (0.5,)),\n",
    "                              ])\n",
    "\n",
    "# Download and load the training data\n",
    "trainset = datasets.MNIST('~/.pytorch/MNIST_data/', download=True, train=True, transform=transform)\n",
    "trainloader = torch.utils.data.DataLoader(trainset, batch_size=64, shuffle=True)"
   ]
  },
  {
   "cell_type": "markdown",
   "metadata": {},
   "source": [
    "We have the training data loaded into `trainloader` and we make that an iterator with `iter(trainloader)`. Later, we'll use this to loop through the dataset for training, like\n",
    "\n",
    "```python\n",
    "for image, label in trainloader:\n",
    "    ## do things with images and labels\n",
    "```\n",
    "\n",
    "You'll notice I created the `trainloader` with a batch size of 64, and `shuffle=True`. The batch size is the number of images we get in one iteration from the data loader and pass through our network, often called a *batch*. And `shuffle=True` tells it to shuffle the dataset every time we start going through the data loader again. But here I'm just grabbing the first batch so we can check out the data. We can see below that `images` is just a tensor with size `(64, 1, 28, 28)`. So, 64 images per batch, 1 color channel, and 28x28 images."
   ]
  },
  {
   "cell_type": "code",
   "execution_count": 3,
   "metadata": {},
   "outputs": [
    {
     "name": "stdout",
     "output_type": "stream",
     "text": [
      "<class 'torch.Tensor'>\n",
      "torch.Size([64, 1, 28, 28])\n",
      "torch.Size([64])\n"
     ]
    }
   ],
   "source": [
    "dataiter = iter(trainloader)\n",
    "images, labels = dataiter.next()\n",
    "print(type(images))\n",
    "print(images.shape)\n",
    "print(labels.shape)"
   ]
  },
  {
   "cell_type": "markdown",
   "metadata": {},
   "source": [
    "This is what one of the images looks like. "
   ]
  },
  {
   "cell_type": "code",
   "execution_count": 4,
   "metadata": {},
   "outputs": [
    {
     "data": {
      "image/png": "[encoded data removed]",
      "text/plain": [
       "<Figure size 432x288 with 1 Axes>"
      ]
     },
     "metadata": {
      "image/png": {
       "height": 248,
       "width": 251
      },
      "needs_background": "light"
     },
     "output_type": "display_data"
    }
   ],
   "source": [
    "plt.imshow(images[1].numpy().squeeze(), cmap='Greys_r');"
   ]
  },
  {
   "cell_type": "markdown",
   "metadata": {},
   "source": [
    "First, let's try to build a simple network for this dataset using weight matrices and matrix multiplications. Then, we'll see how to do it using PyTorch's `nn` module which provides a much more convenient and powerful method for defining network architectures.\n",
    "\n",
    "The networks you've seen so far are called *fully-connected* or *dense* networks. Each unit in one layer is connected to each unit in the next layer. In fully-connected networks, the input to each layer must be a one-dimensional vector (which can be stacked into a 2D tensor as a batch of multiple examples). However, our images are 28x28 2D tensors, so we need to convert them into 1D vectors. Thinking about sizes, we need to convert the batch of images with shape `(64, 1, 28, 28)` to a have a shape of `(64, 784)`, 784 is 28 times 28. This is typically called *flattening*, we flattened the 2D images into 1D vectors.\n",
    "\n",
    "Previously you built a network with one output unit. Here we need 10 output units, one for each digit. We want our network to predict the digit shown in an image, so what we'll do is calculate probabilities that the image is of any one digit or class. This ends up being a discrete probability distribution over the classes (digits) that tells us the most likely class for the image. That means we need 10 output units for the 10 classes (digits). We'll see how to convert the network output into a probability distribution next.\n",
    "\n",
    "> **Exercise:** Flatten the batch of images `images`. Then build a multi-layer network with 784 input units, 256 hidden units, and 10 output units using random tensors for the weights and biases. For now, use a sigmoid activation for the hidden layer. Leave the output layer without an activation, we'll add one that gives us a probability distribution next."
   ]
  },
  {
   "cell_type": "code",
   "execution_count": 5,
   "metadata": {},
   "outputs": [
    {
     "name": "stdout",
     "output_type": "stream",
     "text": [
      "torch.Size([64, 10])\n"
     ]
    }
   ],
   "source": [
    "## Your solution\n",
    "def activation(x):\n",
    "    return 1 / (1 + torch.exp(x))\n",
    "\n",
    "features = images.view(images.shape[0], 784) # reshape the tensor\n",
    "W1 = torch.randn(784, 256)\n",
    "b1 = torch.randn(256)\n",
    "\n",
    "W2 = torch.randn(256, 10)\n",
    "b2 = torch.randn(10)\n",
    "\n",
    "h = activation(torch.mm(features, W1) + b1)\n",
    "out = torch.mm(h, W2) + b2\n",
    "print(out.shape)"
   ]
  },
  {
   "cell_type": "markdown",
   "metadata": {},
   "source": [
    "Now we have 10 outputs for our network. We want to pass in an image to our network and get out a probability distribution over the classes that tells us the likely class(es) the image belongs to. Something that looks like this:\n",
    "<img src='assets/image_distribution.png' width=500px>\n",
    "\n",
    "Here we see that the probability for each class is roughly the same. This is representing an untrained network, it hasn't seen any data yet so it just returns a uniform distribution with equal probabilities for each class.\n",
    "\n",
    "To calculate this probability distribution, we often use the [**softmax** function](https://en.wikipedia.org/wiki/Softmax_function). Mathematically this looks like\n",
    "\n",
    "$$\n",
    "\\Large \\sigma(x_i) = \\cfrac{e^{x_i}}{\\sum_k^K{e^{x_k}}}\n",
    "$$\n",
    "\n",
    "What this does is squish each input $x_i$ between 0 and 1 and normalizes the values to give you a proper probability distribution where the probabilites sum up to one.\n",
    "\n",
    "> **Exercise:** Implement a function `softmax` that performs the softmax calculation and returns probability distributions for each example in the batch. Note that you'll need to pay attention to the shapes when doing this. If you have a tensor `a` with shape `(64, 10)` and a tensor `b` with shape `(64,)`, doing `a/b` will give you an error because PyTorch will try to do the division across the columns (called broadcasting) but you'll get a size mismatch. The way to think about this is for each of the 64 examples, you only want to divide by one value, the sum in the denominator. So you need `b` to have a shape of `(64, 1)`. This way PyTorch will divide the 10 values in each row of `a` by the one value in each row of `b`. Pay attention to how you take the sum as well. You'll need to define the `dim` keyword in `torch.sum`. Setting `dim=0` takes the sum across the rows while `dim=1` takes the sum across the columns."
   ]
  },
  {
   "cell_type": "code",
   "execution_count": 6,
   "metadata": {},
   "outputs": [
    {
     "name": "stdout",
     "output_type": "stream",
     "text": [
      "tensor([[1.5263e-17, 1.0257e-07, 3.7516e-11, 9.4968e-02, 6.0886e-01, 6.3142e-14,\n",
      "         2.8795e-01, 5.8448e-03, 1.7788e-03, 5.9774e-04],\n",
      "        [4.3189e-17, 8.5576e-13, 1.2384e-14, 2.8828e-06, 1.8873e-04, 6.4705e-15,\n",
      "         4.6978e-06, 9.8282e-01, 4.6420e-07, 1.6986e-02],\n",
      "        [8.8406e-21, 8.5908e-10, 7.8636e-14, 2.2356e-01, 2.6269e-01, 4.4406e-15,\n",
      "         1.6889e-01, 2.3954e-09, 2.9825e-07, 3.4486e-01],\n",
      "        [2.3542e-19, 1.7393e-12, 2.2870e-13, 8.0184e-01, 3.1808e-04, 3.2542e-15,\n",
      "         1.4934e-03, 5.8191e-02, 9.7814e-09, 1.3816e-01],\n",
      "        [8.8724e-26, 7.2937e-15, 6.7818e-16, 9.8975e-01, 2.7047e-05, 1.8493e-17,\n",
      "         1.0226e-02, 2.5861e-09, 1.3233e-07, 4.8294e-07],\n",
      "        [5.5045e-20, 2.5888e-08, 2.5274e-11, 2.3464e-01, 7.6127e-04, 2.4276e-18,\n",
      "         7.6460e-01, 3.1663e-06, 6.7108e-08, 8.1891e-08],\n",
      "        [2.1754e-26, 1.6485e-14, 1.8163e-14, 2.4596e-04, 9.9919e-01, 1.4252e-20,\n",
      "         5.6388e-04, 1.0112e-12, 1.2583e-11, 5.1425e-07],\n",
      "        [9.9340e-19, 1.4915e-12, 2.1040e-13, 3.6331e-01, 6.1006e-03, 2.9242e-14,\n",
      "         6.2306e-01, 7.4850e-03, 1.5491e-11, 4.2355e-05],\n",
      "        [4.6382e-23, 1.2447e-11, 1.5371e-16, 9.9166e-01, 8.3069e-03, 4.0792e-17,\n",
      "         3.0267e-05, 1.5621e-08, 1.6880e-11, 6.1955e-06],\n",
      "        [5.7477e-24, 4.0077e-16, 7.8078e-20, 2.7348e-03, 9.9723e-01, 1.1688e-18,\n",
      "         3.9576e-05, 4.7202e-07, 4.0999e-15, 5.6045e-08],\n",
      "        [2.5627e-15, 3.3249e-09, 6.2062e-09, 1.1392e-02, 6.6530e-01, 6.4248e-15,\n",
      "         8.5328e-02, 2.0389e-01, 1.1068e-09, 3.4094e-02],\n",
      "        [7.6097e-22, 1.4200e-10, 2.0451e-11, 1.2556e-04, 7.1863e-01, 9.5136e-17,\n",
      "         2.4577e-05, 2.8115e-01, 3.2251e-08, 7.0147e-05],\n",
      "        [6.2956e-22, 1.3203e-13, 1.6339e-14, 2.9573e-03, 3.8405e-03, 3.7309e-17,\n",
      "         9.9320e-01, 4.8018e-06, 2.3469e-11, 2.4677e-07],\n",
      "        [1.8647e-23, 1.7079e-11, 7.1093e-17, 1.5802e-03, 9.9840e-01, 2.8358e-17,\n",
      "         6.6837e-06, 1.1312e-08, 7.8121e-06, 5.6146e-07],\n",
      "        [9.0103e-21, 2.9031e-13, 1.1771e-11, 4.7368e-02, 9.5261e-01, 4.2394e-19,\n",
      "         1.2907e-05, 4.0317e-10, 1.1521e-05, 2.3993e-06],\n",
      "        [1.5253e-16, 2.3891e-07, 6.8588e-12, 4.0077e-05, 5.1964e-02, 1.7093e-15,\n",
      "         9.4800e-01, 3.7766e-08, 3.1853e-08, 7.2492e-08],\n",
      "        [1.8567e-21, 2.1189e-11, 8.3713e-17, 1.0819e-09, 1.0000e+00, 2.1491e-16,\n",
      "         2.0924e-07, 1.0395e-10, 1.8904e-08, 5.8555e-08],\n",
      "        [2.0196e-22, 1.3585e-11, 1.2777e-12, 7.5052e-02, 9.2176e-01, 6.4531e-14,\n",
      "         2.9511e-03, 8.9533e-09, 2.3836e-04, 1.8210e-09],\n",
      "        [5.5440e-22, 1.4928e-11, 1.3475e-14, 2.6643e-02, 9.5614e-01, 7.0870e-19,\n",
      "         1.7208e-02, 2.0426e-07, 4.8168e-10, 1.3309e-05],\n",
      "        [4.9985e-23, 4.1112e-13, 1.2801e-15, 5.4073e-04, 7.2270e-04, 4.6528e-19,\n",
      "         9.9873e-01, 1.0895e-09, 4.7314e-12, 3.3826e-06],\n",
      "        [4.6851e-20, 1.3090e-11, 3.6606e-15, 4.8080e-01, 5.2774e-07, 6.0998e-20,\n",
      "         5.1919e-01, 9.8799e-06, 1.4080e-14, 1.5943e-07],\n",
      "        [3.0950e-20, 4.5750e-09, 4.4630e-15, 2.1768e-05, 9.9923e-01, 7.3049e-17,\n",
      "         7.3942e-04, 1.1037e-12, 1.2650e-06, 4.3205e-06],\n",
      "        [1.6381e-17, 8.5809e-08, 1.2841e-17, 9.9674e-01, 1.9166e-03, 2.8326e-15,\n",
      "         1.4998e-06, 9.0169e-07, 3.1139e-06, 1.3410e-03],\n",
      "        [3.9401e-20, 2.3512e-09, 4.5874e-15, 9.9392e-01, 3.0259e-03, 4.5723e-16,\n",
      "         1.6815e-05, 3.0229e-03, 1.8962e-05, 2.1871e-07],\n",
      "        [1.5659e-25, 4.3194e-12, 2.6222e-10, 3.3209e-02, 9.5359e-01, 4.4776e-16,\n",
      "         6.4884e-05, 1.3133e-02, 2.0536e-06, 1.6882e-08],\n",
      "        [1.7733e-23, 8.4723e-15, 3.3620e-11, 1.6075e-01, 8.3924e-01, 6.1971e-19,\n",
      "         6.8381e-07, 8.7119e-09, 1.1053e-08, 7.2814e-06],\n",
      "        [1.9628e-18, 2.9120e-10, 4.3600e-13, 6.7663e-06, 9.2195e-02, 1.0712e-17,\n",
      "         9.0780e-01, 2.0620e-08, 4.4889e-07, 3.0296e-08],\n",
      "        [1.3407e-20, 2.6515e-13, 1.4227e-14, 1.6649e-02, 7.0985e-02, 1.1912e-17,\n",
      "         9.1221e-01, 7.9932e-05, 4.8191e-07, 7.9020e-05],\n",
      "        [2.9142e-18, 1.9477e-14, 8.9754e-12, 3.0364e-01, 6.9492e-01, 1.3773e-16,\n",
      "         1.4147e-03, 2.6482e-05, 1.2492e-07, 6.5720e-07],\n",
      "        [5.2770e-15, 8.6818e-05, 1.7036e-14, 1.3545e-03, 9.6362e-01, 1.9547e-14,\n",
      "         2.5459e-04, 3.4660e-02, 2.0351e-05, 2.6364e-06],\n",
      "        [6.9447e-25, 2.5924e-07, 2.4751e-13, 9.4544e-01, 5.3332e-02, 2.9601e-15,\n",
      "         2.2286e-05, 1.0552e-03, 1.3944e-10, 1.5408e-04],\n",
      "        [5.9174e-17, 1.5816e-09, 1.1117e-16, 2.8456e-01, 7.1543e-01, 2.6515e-16,\n",
      "         5.9531e-06, 7.0074e-09, 2.0824e-08, 7.5997e-07],\n",
      "        [6.9259e-21, 4.6142e-12, 1.6610e-10, 2.6124e-03, 9.8741e-01, 2.7638e-17,\n",
      "         9.9707e-03, 2.4862e-06, 7.5303e-09, 2.0461e-06],\n",
      "        [1.5631e-20, 2.1084e-12, 5.1136e-17, 6.7608e-06, 9.9999e-01, 1.9171e-19,\n",
      "         1.5058e-08, 4.6395e-10, 9.7721e-08, 1.7057e-12],\n",
      "        [3.9731e-16, 4.0909e-11, 4.0637e-13, 8.7811e-01, 9.3590e-02, 5.1985e-18,\n",
      "         2.4912e-02, 3.1655e-03, 2.1795e-04, 1.9959e-06],\n",
      "        [2.7907e-21, 1.0980e-13, 6.9067e-12, 9.3456e-01, 9.4795e-04, 4.2285e-15,\n",
      "         6.4471e-02, 9.0913e-08, 5.9612e-13, 2.1596e-05],\n",
      "        [1.1245e-17, 1.5618e-15, 1.1977e-12, 2.1071e-05, 9.9870e-01, 1.8122e-21,\n",
      "         1.0991e-03, 1.8122e-04, 1.3625e-07, 1.7076e-08],\n",
      "        [5.8363e-26, 6.0163e-12, 1.5821e-16, 1.5466e-05, 3.0288e-05, 3.0682e-16,\n",
      "         9.9994e-01, 1.7106e-05, 3.0997e-15, 8.3983e-08],\n",
      "        [2.7369e-25, 1.5183e-09, 3.4908e-15, 9.8600e-01, 5.2706e-05, 6.0463e-19,\n",
      "         1.3889e-02, 2.0779e-13, 2.7193e-08, 6.0317e-05],\n",
      "        [4.3589e-21, 4.8594e-13, 2.1510e-14, 1.4648e-03, 5.4856e-01, 3.9686e-16,\n",
      "         4.4989e-01, 8.0476e-05, 8.4681e-10, 1.3911e-07],\n",
      "        [3.2187e-23, 1.8034e-12, 2.4404e-12, 4.0703e-07, 6.3055e-04, 1.4751e-17,\n",
      "         9.9936e-01, 5.0314e-10, 2.8639e-10, 1.3721e-05],\n",
      "        [1.4101e-17, 1.0173e-09, 1.9791e-15, 1.4430e-04, 4.3522e-05, 8.5409e-18,\n",
      "         9.9973e-01, 9.1763e-06, 4.4443e-06, 7.1540e-05],\n",
      "        [2.5183e-21, 1.9664e-08, 2.0925e-10, 8.2923e-01, 4.1023e-03, 7.2222e-15,\n",
      "         1.6664e-01, 1.4307e-05, 1.4187e-08, 1.3082e-05],\n",
      "        [9.2764e-24, 9.5853e-14, 5.3608e-20, 1.5573e-09, 1.0000e+00, 5.1429e-21,\n",
      "         1.4852e-10, 1.9055e-11, 5.3453e-10, 4.8134e-12],\n",
      "        [1.8628e-24, 4.0350e-13, 1.0220e-12, 9.9926e-01, 7.3857e-04, 1.8046e-18,\n",
      "         1.7288e-07, 1.7632e-08, 1.2031e-10, 1.3116e-08],\n",
      "        [2.8740e-20, 1.3672e-06, 3.8612e-10, 6.3946e-05, 8.7673e-01, 5.0234e-16,\n",
      "         5.8137e-09, 1.4894e-06, 2.2277e-12, 1.2320e-01],\n",
      "        [2.9519e-21, 1.6446e-12, 1.0776e-11, 4.7428e-02, 2.3094e-03, 2.0993e-19,\n",
      "         9.5025e-01, 4.6699e-09, 5.7922e-11, 7.5741e-06],\n",
      "        [1.3043e-23, 1.6927e-11, 1.2529e-15, 2.1021e-01, 7.8962e-01, 4.2514e-16,\n",
      "         1.2311e-04, 5.0752e-05, 3.2311e-07, 8.3283e-08],\n",
      "        [4.6176e-16, 5.5428e-10, 4.2465e-12, 6.9936e-01, 3.4702e-03, 9.9230e-17,\n",
      "         2.9717e-01, 3.0874e-07, 4.8893e-09, 4.5639e-08],\n",
      "        [4.1628e-15, 1.8901e-12, 1.8577e-08, 2.2008e-02, 9.7652e-01, 1.8237e-16,\n",
      "         1.1716e-03, 3.0024e-04, 5.9548e-09, 4.1276e-09],\n",
      "        [3.0659e-21, 7.8756e-15, 1.5892e-13, 3.8892e-05, 7.6423e-04, 1.0863e-19,\n",
      "         9.9918e-01, 5.2724e-11, 1.8603e-05, 3.1779e-08],\n",
      "        [3.6553e-17, 9.1762e-11, 5.7327e-14, 2.1105e-02, 9.7782e-01, 5.3604e-17,\n",
      "         1.0743e-03, 1.2685e-08, 1.5264e-06, 1.1457e-06],\n",
      "        [1.4197e-20, 8.4236e-08, 1.1238e-11, 1.6647e-01, 5.8867e-01, 9.2619e-13,\n",
      "         9.6317e-02, 1.1705e-06, 1.5592e-11, 1.4854e-01],\n",
      "        [1.2985e-23, 1.2526e-12, 5.4695e-15, 1.0749e-03, 2.9581e-03, 1.5343e-17,\n",
      "         9.9597e-01, 1.6159e-08, 7.8864e-12, 9.7159e-08],\n",
      "        [2.3551e-19, 5.0856e-09, 3.7537e-11, 3.2353e-07, 9.9911e-01, 2.6468e-18,\n",
      "         1.7474e-05, 3.0712e-04, 4.1041e-09, 5.6489e-04],\n",
      "        [1.3298e-22, 5.3602e-11, 7.7384e-16, 9.8276e-01, 1.6951e-02, 2.2105e-21,\n",
      "         1.9708e-04, 1.4663e-05, 1.0157e-06, 7.9591e-05],\n",
      "        [6.4748e-23, 1.0912e-13, 8.8434e-16, 7.3373e-07, 4.8720e-03, 1.6302e-20,\n",
      "         9.9405e-01, 3.8014e-05, 7.5538e-09, 1.0391e-03],\n",
      "        [5.0289e-24, 2.2828e-11, 1.0831e-16, 5.0868e-09, 9.9998e-01, 1.3607e-20,\n",
      "         1.4263e-06, 1.5255e-05, 1.0519e-10, 6.4561e-09],\n",
      "        [1.7401e-18, 2.9205e-13, 1.4776e-13, 1.0891e-03, 9.9792e-01, 3.4859e-13,\n",
      "         2.8880e-04, 2.4850e-04, 3.7005e-04, 8.4712e-05],\n",
      "        [1.3625e-19, 2.3792e-09, 6.0041e-13, 6.9002e-02, 9.0252e-01, 5.0892e-11,\n",
      "         5.4465e-03, 1.0417e-02, 1.3530e-06, 1.2616e-02],\n",
      "        [2.0971e-20, 2.5113e-08, 7.5818e-15, 4.6810e-02, 9.4872e-01, 1.0623e-16,\n",
      "         3.2424e-03, 3.7756e-04, 5.4244e-06, 8.4930e-04],\n",
      "        [7.0554e-25, 5.8811e-12, 9.1829e-16, 7.1887e-06, 9.9992e-01, 1.1325e-13,\n",
      "         1.2625e-05, 6.4476e-05, 1.6270e-11, 6.5941e-07],\n",
      "        [7.3087e-19, 2.8909e-06, 7.8411e-15, 3.7112e-01, 5.7696e-01, 2.0789e-14,\n",
      "         5.0979e-02, 8.5244e-07, 9.3581e-04, 1.8333e-06],\n",
      "        [3.0760e-21, 1.5249e-10, 3.0669e-14, 6.8957e-02, 8.1959e-04, 7.6710e-14,\n",
      "         9.3016e-01, 7.4375e-13, 8.2577e-13, 5.8811e-05]])\n",
      "torch.Size([64, 10])\n",
      "tensor([1.0000, 1.0000, 1.0000, 1.0000, 1.0000, 1.0000, 1.0000, 1.0000, 1.0000,\n",
      "        1.0000, 1.0000, 1.0000, 1.0000, 1.0000, 1.0000, 1.0000, 1.0000, 1.0000,\n",
      "        1.0000, 1.0000, 1.0000, 1.0000, 1.0000, 1.0000, 1.0000, 1.0000, 1.0000,\n",
      "        1.0000, 1.0000, 1.0000, 1.0000, 1.0000, 1.0000, 1.0000, 1.0000, 1.0000,\n",
      "        1.0000, 1.0000, 1.0000, 1.0000, 1.0000, 1.0000, 1.0000, 1.0000, 1.0000,\n",
      "        1.0000, 1.0000, 1.0000, 1.0000, 1.0000, 1.0000, 1.0000, 1.0000, 1.0000,\n",
      "        1.0000, 1.0000, 1.0000, 1.0000, 1.0000, 1.0000, 1.0000, 1.0000, 1.0000,\n",
      "        1.0000])\n"
     ]
    }
   ],
   "source": [
    "def softmax(x):\n",
    "    return torch.exp(x) / torch.exp(x).sum(dim=1).view(64, 1)\n",
    "\n",
    "# Here, out should be the output of the network in the previous excercise with shape (64,10)\n",
    "probabilities = softmax(out)\n",
    "print(probabilities)\n",
    "\n",
    "# Does it have the right shape? Should be (64, 10)\n",
    "print(probabilities.shape)\n",
    "# Does it sum to 1?\n",
    "print(probabilities.sum(dim=1))"
   ]
  },
  {
   "cell_type": "markdown",
   "metadata": {},
   "source": [
    "## Building networks with PyTorch\n",
    "\n",
    "PyTorch provides a module `nn` that makes building networks much simpler. Here I'll show you how to build the same one as above with 784 inputs, 256 hidden units, 10 output units and a softmax output."
   ]
  },
  {
   "cell_type": "code",
   "execution_count": 7,
   "metadata": {},
   "outputs": [],
   "source": [
    "from torch import nn"
   ]
  },
  {
   "cell_type": "code",
   "execution_count": 8,
   "metadata": {},
   "outputs": [],
   "source": [
    "class Network(nn.Module):\n",
    "    def __init__(self):\n",
    "        super().__init__()\n",
    "        \n",
    "        # Inputs to hidden layer linear transformation\n",
    "        self.hidden = nn.Linear(784, 256)\n",
    "        # Output layer, 10 units - one for each digit\n",
    "        self.output = nn.Linear(256, 10)\n",
    "        \n",
    "        # Define sigmoid activation and softmax output \n",
    "        self.sigmoid = nn.Sigmoid()\n",
    "        self.softmax = nn.Softmax(dim=1)\n",
    "        \n",
    "    def forward(self, x):\n",
    "        # Pass the input tensor through each of our operations\n",
    "        x = self.hidden(x)\n",
    "        x = self.sigmoid(x)\n",
    "        x = self.output(x)\n",
    "        x = self.softmax(x)\n",
    "        \n",
    "        return x"
   ]
  },
  {
   "cell_type": "markdown",
   "metadata": {},
   "source": [
    "Let's go through this bit by bit.\n",
    "\n",
    "```python\n",
    "class Network(nn.Module):\n",
    "```\n",
    "\n",
    "Here we're inheriting from `nn.Module`. Combined with `super().__init__()` this creates a class that tracks the architecture and provides a lot of useful methods and attributes. It is mandatory to inherit from `nn.Module` when you're creating a class for your network. The name of the class itself can be anything.\n",
    "\n",
    "```python\n",
    "self.hidden = nn.Linear(784, 256)\n",
    "```\n",
    "\n",
    "This line creates a module for a linear transformation, $x\\mathbf{W} + b$, with 784 inputs and 256 outputs and assigns it to `self.hidden`. The module automatically creates the weight and bias tensors which we'll use in the `forward` method. You can access the weight and bias tensors once the network (`net`) is created with `net.hidden.weight` and `net.hidden.bias`.\n",
    "\n",
    "```python\n",
    "self.output = nn.Linear(256, 10)\n",
    "```\n",
    "\n",
    "Similarly, this creates another linear transformation with 256 inputs and 10 outputs.\n",
    "\n",
    "```python\n",
    "self.sigmoid = nn.Sigmoid()\n",
    "self.softmax = nn.Softmax(dim=1)\n",
    "```\n",
    "\n",
    "Here I defined operations for the sigmoid activation and softmax output. Setting `dim=1` in `nn.Softmax(dim=1)` calculates softmax across the columns.\n",
    "\n",
    "```python\n",
    "def forward(self, x):\n",
    "```\n",
    "\n",
    "PyTorch networks created with `nn.Module` must have a `forward` method defined. It takes in a tensor `x` and passes it through the operations you defined in the `__init__` method.\n",
    "\n",
    "```python\n",
    "x = self.hidden(x)\n",
    "x = self.sigmoid(x)\n",
    "x = self.output(x)\n",
    "x = self.softmax(x)\n",
    "```\n",
    "\n",
    "Here the input tensor `x` is passed through each operation and reassigned to `x`. We can see that the input tensor goes through the hidden layer, then a sigmoid function, then the output layer, and finally the softmax function. It doesn't matter what you name the variables here, as long as the inputs and outputs of the operations match the network architecture you want to build. The order in which you define things in the `__init__` method doesn't matter, but you'll need to sequence the operations correctly in the `forward` method.\n",
    "\n",
    "Now we can create a `Network` object."
   ]
  },
  {
   "cell_type": "code",
   "execution_count": 9,
   "metadata": {},
   "outputs": [
    {
     "data": {
      "text/plain": [
       "Network(\n",
       "  (hidden): Linear(in_features=784, out_features=256, bias=True)\n",
       "  (output): Linear(in_features=256, out_features=10, bias=True)\n",
       "  (sigmoid): Sigmoid()\n",
       "  (softmax): Softmax(dim=1)\n",
       ")"
      ]
     },
     "execution_count": 9,
     "metadata": {},
     "output_type": "execute_result"
    }
   ],
   "source": [
    "# Create the network and look at it's text representation\n",
    "model = Network()\n",
    "model"
   ]
  },
  {
   "cell_type": "markdown",
   "metadata": {},
   "source": [
    "You can define the network somewhat more concisely and clearly using the `torch.nn.functional` module. This is the most common way you'll see networks defined as many operations are simple element-wise functions. We normally import this module as `F`, `import torch.nn.functional as F`."
   ]
  },
  {
   "cell_type": "code",
   "execution_count": 10,
   "metadata": {},
   "outputs": [],
   "source": [
    "import torch.nn.functional as F\n",
    "\n",
    "class Network(nn.Module):\n",
    "    def __init__(self):\n",
    "        super().__init__()\n",
    "        # Inputs to hidden layer linear transformation\n",
    "        self.hidden = nn.Linear(784, 256)\n",
    "        # Output layer, 10 units - one for each digit\n",
    "        self.output = nn.Linear(256, 10)\n",
    "        \n",
    "    def forward(self, x):\n",
    "        # Hidden layer with sigmoid activation\n",
    "        x = F.sigmoid(self.hidden(x))\n",
    "        # Output layer with softmax activation\n",
    "        x = F.softmax(self.output(x), dim=1)\n",
    "        \n",
    "        return x"
   ]
  },
  {
   "cell_type": "markdown",
   "metadata": {},
   "source": [
    "### Activation functions\n",
    "\n",
    "So far we've only been looking at the sigmoid activation function, but in general any function can be used as an activation function. The only requirement is that for a network to approximate a non-linear function, the activation functions must be non-linear. Here are a few more examples of common activation functions: Tanh (hyperbolic tangent), and ReLU (rectified linear unit).\n",
    "\n",
    "<img src=\"assets/activation.png\" width=700px>\n",
    "\n",
    "In practice, the ReLU function is used almost exclusively as the activation function for hidden layers."
   ]
  },
  {
   "cell_type": "markdown",
   "metadata": {},
   "source": [
    "### Your Turn to Build a Network\n",
    "\n",
    "<img src=\"assets/mlp_mnist.png\" width=600px>\n",
    "\n",
    "> **Exercise:** Create a network with 784 input units, a hidden layer with 128 units and a ReLU activation, then a hidden layer with 64 units and a ReLU activation, and finally an output layer with a softmax activation as shown above. You can use a ReLU activation with the `nn.ReLU` module or `F.relu` function.\n",
    "\n",
    "It's good practice to name your layers by their type of network, for instance 'fc' to represent a fully-connected layer. As you code your solution, use `fc1`, `fc2`, and `fc3` as your layer names."
   ]
  },
  {
   "cell_type": "code",
   "execution_count": 11,
   "metadata": {
    "scrolled": true
   },
   "outputs": [],
   "source": [
    "## Your solution here\n",
    "from torch import nn\n",
    "import torch.nn.functional as F"
   ]
  },
  {
   "cell_type": "code",
   "execution_count": 12,
   "metadata": {},
   "outputs": [],
   "source": [
    "class Network_Complex(nn.Module):\n",
    "    def __init__(self):\n",
    "        super().__init__()\n",
    "        # Two hidden layers\n",
    "        self.fc1 = nn.Linear(784, 128)\n",
    "        self.fc2 = nn.Linear(128, 64)\n",
    "        # One output layer with size 10, one for each digit\n",
    "        self.output = nn.Linear(64, 10)\n",
    "        \n",
    "    def forward(self, x):\n",
    "        # Hidden layer with relu activation\n",
    "        x = F.relu(self.fc1(x))\n",
    "        x = F.relu(self.fc2(x))\n",
    "        # Output layer with softmax activation\n",
    "        x = F.softmax(self.output(x), dim=1)\n",
    "        \n",
    "        return x"
   ]
  },
  {
   "cell_type": "markdown",
   "metadata": {},
   "source": [
    "### Initializing weights and biases\n",
    "\n",
    "The weights and such are automatically initialized for you, but it's possible to customize how they are initialized. The weights and biases are tensors attached to the layer you defined, you can get them with `model.fc1.weight` for instance."
   ]
  },
  {
   "cell_type": "code",
   "execution_count": 13,
   "metadata": {},
   "outputs": [
    {
     "name": "stdout",
     "output_type": "stream",
     "text": [
      "Parameter containing:\n",
      "tensor([[-0.0127, -0.0105,  0.0251,  ..., -0.0301,  0.0218,  0.0134],\n",
      "        [ 0.0011, -0.0033,  0.0127,  ...,  0.0284, -0.0296, -0.0250],\n",
      "        [-0.0229,  0.0286,  0.0192,  ..., -0.0319, -0.0260, -0.0308],\n",
      "        ...,\n",
      "        [-0.0108,  0.0028,  0.0339,  ..., -0.0027,  0.0030,  0.0035],\n",
      "        [ 0.0091, -0.0063,  0.0354,  ..., -0.0321,  0.0276,  0.0178],\n",
      "        [ 0.0340,  0.0252, -0.0222,  ...,  0.0016,  0.0268,  0.0165]],\n",
      "       requires_grad=True)\n",
      "torch.Size([128, 784])\n",
      "Parameter containing:\n",
      "tensor([-0.0247, -0.0144, -0.0262,  0.0282, -0.0273, -0.0017,  0.0246, -0.0057,\n",
      "         0.0168, -0.0299,  0.0229, -0.0308,  0.0015, -0.0288,  0.0066,  0.0222,\n",
      "        -0.0200,  0.0112,  0.0193, -0.0208, -0.0220, -0.0106, -0.0161, -0.0142,\n",
      "         0.0217, -0.0317,  0.0320,  0.0275,  0.0097, -0.0242,  0.0189, -0.0044,\n",
      "        -0.0097,  0.0053, -0.0128,  0.0130,  0.0277, -0.0089,  0.0104, -0.0322,\n",
      "         0.0334, -0.0114, -0.0133, -0.0316,  0.0088,  0.0147, -0.0333,  0.0173,\n",
      "         0.0132,  0.0069, -0.0225,  0.0045,  0.0185, -0.0283,  0.0112, -0.0244,\n",
      "         0.0135, -0.0097,  0.0102, -0.0195,  0.0090,  0.0063, -0.0301, -0.0268,\n",
      "        -0.0249, -0.0108, -0.0045,  0.0075,  0.0160, -0.0123, -0.0317, -0.0247,\n",
      "        -0.0324,  0.0142, -0.0220,  0.0112,  0.0252,  0.0074,  0.0128, -0.0246,\n",
      "         0.0016,  0.0010,  0.0300, -0.0211, -0.0042,  0.0067, -0.0040, -0.0033,\n",
      "        -0.0072,  0.0237, -0.0329, -0.0152,  0.0170,  0.0026, -0.0010, -0.0300,\n",
      "        -0.0299,  0.0138, -0.0284,  0.0043,  0.0064, -0.0244, -0.0290, -0.0062,\n",
      "         0.0278,  0.0212,  0.0152,  0.0119, -0.0319,  0.0347,  0.0310, -0.0152,\n",
      "         0.0055,  0.0061, -0.0231, -0.0321,  0.0357, -0.0088, -0.0259, -0.0081,\n",
      "         0.0034, -0.0166, -0.0047, -0.0024,  0.0043,  0.0226,  0.0197, -0.0094],\n",
      "       requires_grad=True)\n",
      "torch.Size([128])\n"
     ]
    }
   ],
   "source": [
    "model = Network_Complex()\n",
    "print(model.fc1.weight)\n",
    "print(model.fc1.weight.shape)\n",
    "print(model.fc1.bias)\n",
    "print(model.fc1.bias.shape)"
   ]
  },
  {
   "cell_type": "markdown",
   "metadata": {},
   "source": [
    "For custom initialization, we want to modify these tensors in place. These are actually autograd *Variables*, so we need to get back the actual tensors with `model.fc1.weight.data`. Once we have the tensors, we can fill them with zeros (for biases) or random normal values."
   ]
  },
  {
   "cell_type": "code",
   "execution_count": 14,
   "metadata": {},
   "outputs": [
    {
     "data": {
      "text/plain": [
       "tensor([0., 0., 0., 0., 0., 0., 0., 0., 0., 0., 0., 0., 0., 0., 0., 0., 0., 0., 0., 0., 0., 0., 0., 0.,\n",
       "        0., 0., 0., 0., 0., 0., 0., 0., 0., 0., 0., 0., 0., 0., 0., 0., 0., 0., 0., 0., 0., 0., 0., 0.,\n",
       "        0., 0., 0., 0., 0., 0., 0., 0., 0., 0., 0., 0., 0., 0., 0., 0., 0., 0., 0., 0., 0., 0., 0., 0.,\n",
       "        0., 0., 0., 0., 0., 0., 0., 0., 0., 0., 0., 0., 0., 0., 0., 0., 0., 0., 0., 0., 0., 0., 0., 0.,\n",
       "        0., 0., 0., 0., 0., 0., 0., 0., 0., 0., 0., 0., 0., 0., 0., 0., 0., 0., 0., 0., 0., 0., 0., 0.,\n",
       "        0., 0., 0., 0., 0., 0., 0., 0.])"
      ]
     },
     "execution_count": 14,
     "metadata": {},
     "output_type": "execute_result"
    }
   ],
   "source": [
    "# Set biases to all zeros\n",
    "model.fc1.bias.data.fill_(0)"
   ]
  },
  {
   "cell_type": "code",
   "execution_count": 15,
   "metadata": {},
   "outputs": [
    {
     "data": {
      "text/plain": [
       "tensor([[ 0.0048,  0.0172, -0.0029,  ...,  0.0278,  0.0034,  0.0033],\n",
       "        [ 0.0180,  0.0044,  0.0079,  ...,  0.0196,  0.0015, -0.0187],\n",
       "        [-0.0079,  0.0067,  0.0017,  ..., -0.0006, -0.0051,  0.0093],\n",
       "        ...,\n",
       "        [ 0.0005,  0.0267, -0.0046,  ..., -0.0038, -0.0020,  0.0007],\n",
       "        [ 0.0061, -0.0099,  0.0134,  ...,  0.0048, -0.0131,  0.0028],\n",
       "        [-0.0015, -0.0002,  0.0090,  ..., -0.0040, -0.0026,  0.0178]])"
      ]
     },
     "execution_count": 15,
     "metadata": {},
     "output_type": "execute_result"
    }
   ],
   "source": [
    "# sample from random normal with standard dev = 0.01\n",
    "model.fc1.weight.data.normal_(std=0.01)"
   ]
  },
  {
   "cell_type": "markdown",
   "metadata": {},
   "source": [
    "### Forward pass\n",
    "\n",
    "Now that we have a network, let's see what happens when we pass in an image."
   ]
  },
  {
   "cell_type": "code",
   "execution_count": 16,
   "metadata": {},
   "outputs": [
    {
     "data": {
      "image/png": "[encoded data removed]",
      "text/plain": [
       "<Figure size 432x648 with 2 Axes>"
      ]
     },
     "metadata": {
      "image/png": {
       "height": 235,
       "width": 424
      },
      "needs_background": "light"
     },
     "output_type": "display_data"
    }
   ],
   "source": [
    "# Grab some data \n",
    "dataiter = iter(trainloader)\n",
    "images, labels = dataiter.next()\n",
    "\n",
    "# Resize images into a 1D vector, new shape is (batch size, color channels, image pixels) \n",
    "images.resize_(64, 1, 784)\n",
    "# or images.resize_(images.shape[0], 1, 784) to automatically get batch size\n",
    "\n",
    "# Forward pass through the network\n",
    "img_idx = 6\n",
    "ps = model.forward(images[img_idx,:])\n",
    "\n",
    "img = images[img_idx]\n",
    "helper.view_classify(img.view(1, 28, 28), ps)"
   ]
  },
  {
   "cell_type": "markdown",
   "metadata": {},
   "source": [
    "As you can see above, our network has basically no idea what this digit is. It's because we haven't trained it yet, all the weights are random!\n",
    "\n",
    "### Using `nn.Sequential`\n",
    "\n",
    "PyTorch provides a convenient way to build networks like this where a tensor is passed sequentially through operations, `nn.Sequential` ([documentation](https://pytorch.org/docs/master/nn.html#torch.nn.Sequential)). Using this to build the equivalent network:"
   ]
  },
  {
   "cell_type": "code",
   "execution_count": 17,
   "metadata": {},
   "outputs": [
    {
     "name": "stdout",
     "output_type": "stream",
     "text": [
      "Sequential(\n",
      "  (0): Linear(in_features=784, out_features=128, bias=True)\n",
      "  (1): ReLU()\n",
      "  (2): Linear(in_features=128, out_features=64, bias=True)\n",
      "  (3): ReLU()\n",
      "  (4): Linear(in_features=64, out_features=10, bias=True)\n",
      "  (5): Softmax(dim=1)\n",
      ")\n"
     ]
    },
    {
     "data": {
      "image/png": "[encoded data removed]",
      "text/plain": [
       "<Figure size 432x648 with 2 Axes>"
      ]
     },
     "metadata": {
      "image/png": {
       "height": 235,
       "width": 424
      },
      "needs_background": "light"
     },
     "output_type": "display_data"
    }
   ],
   "source": [
    "# Hyperparameters for our network\n",
    "input_size = 784\n",
    "hidden_sizes = [128, 64]\n",
    "output_size = 10\n",
    "\n",
    "# Build a feed-forward network\n",
    "model = nn.Sequential(nn.Linear(input_size, hidden_sizes[0]),\n",
    "                      nn.ReLU(),\n",
    "                      nn.Linear(hidden_sizes[0], hidden_sizes[1]),\n",
    "                      nn.ReLU(),\n",
    "                      nn.Linear(hidden_sizes[1], output_size),\n",
    "                      nn.Softmax(dim=1))\n",
    "print(model)\n",
    "\n",
    "# Forward pass through the network and display output\n",
    "images, labels = next(iter(trainloader))\n",
    "images.resize_(images.shape[0], 1, 784)\n",
    "ps = model.forward(images[0,:])\n",
    "helper.view_classify(images[0].view(1, 28, 28), ps)"
   ]
  },
  {
   "cell_type": "markdown",
   "metadata": {},
   "source": [
    "Here our model is the same as before: 784 input units, a hidden layer with 128 units, ReLU activation, 64 unit hidden layer, another ReLU, then the output layer with 10 units, and the softmax output.\n",
    "\n",
    "The operations are available by passing in the appropriate index. For example, if you want to get first Linear operation and look at the weights, you'd use `model[0]`."
   ]
  },
  {
   "cell_type": "code",
   "execution_count": 18,
   "metadata": {},
   "outputs": [
    {
     "name": "stdout",
     "output_type": "stream",
     "text": [
      "Linear(in_features=784, out_features=128, bias=True)\n"
     ]
    },
    {
     "data": {
      "text/plain": [
       "Parameter containing:\n",
       "tensor([[-0.0207, -0.0178, -0.0303,  ...,  0.0237,  0.0350, -0.0300],\n",
       "        [-0.0353, -0.0055,  0.0216,  ...,  0.0063, -0.0097, -0.0349],\n",
       "        [ 0.0354,  0.0329,  0.0305,  ..., -0.0217,  0.0033, -0.0344],\n",
       "        ...,\n",
       "        [-0.0356,  0.0147, -0.0020,  ..., -0.0244,  0.0157, -0.0009],\n",
       "        [ 0.0126, -0.0120, -0.0267,  ..., -0.0080,  0.0231, -0.0272],\n",
       "        [-0.0239,  0.0190,  0.0088,  ...,  0.0050,  0.0119,  0.0238]],\n",
       "       requires_grad=True)"
      ]
     },
     "execution_count": 18,
     "metadata": {},
     "output_type": "execute_result"
    }
   ],
   "source": [
    "print(model[0])\n",
    "model[0].weight"
   ]
  },
  {
   "cell_type": "markdown",
   "metadata": {},
   "source": [
    "You can also pass in an `OrderedDict` to name the individual layers and operations, instead of using incremental integers. Note that dictionary keys must be unique, so _each operation must have a different name_."
   ]
  },
  {
   "cell_type": "code",
   "execution_count": 19,
   "metadata": {},
   "outputs": [
    {
     "data": {
      "text/plain": [
       "Sequential(\n",
       "  (fc1): Linear(in_features=784, out_features=128, bias=True)\n",
       "  (relu1): ReLU()\n",
       "  (fc2): Linear(in_features=128, out_features=64, bias=True)\n",
       "  (relu2): ReLU()\n",
       "  (output): Linear(in_features=64, out_features=10, bias=True)\n",
       "  (softmax): Softmax(dim=1)\n",
       ")"
      ]
     },
     "execution_count": 19,
     "metadata": {},
     "output_type": "execute_result"
    }
   ],
   "source": [
    "from collections import OrderedDict\n",
    "model = nn.Sequential(OrderedDict([\n",
    "                      ('fc1', nn.Linear(input_size, hidden_sizes[0])),\n",
    "                      ('relu1', nn.ReLU()),\n",
    "                      ('fc2', nn.Linear(hidden_sizes[0], hidden_sizes[1])),\n",
    "                      ('relu2', nn.ReLU()),\n",
    "                      ('output', nn.Linear(hidden_sizes[1], output_size)),\n",
    "                      ('softmax', nn.Softmax(dim=1))]))\n",
    "model"
   ]
  },
  {
   "cell_type": "markdown",
   "metadata": {},
   "source": [
    "Now you can access layers either by integer or the name"
   ]
  },
  {
   "cell_type": "code",
   "execution_count": 20,
   "metadata": {},
   "outputs": [
    {
     "name": "stdout",
     "output_type": "stream",
     "text": [
      "Linear(in_features=784, out_features=128, bias=True)\n",
      "Linear(in_features=784, out_features=128, bias=True)\n"
     ]
    }
   ],
   "source": [
    "print(model[0])\n",
    "print(model.fc1)"
   ]
  },
  {
   "cell_type": "markdown",
   "metadata": {},
   "source": [
    "In the next notebook, we'll see how we can train a neural network to accuractly predict the numbers appearing in the MNIST images."
   ]
  }
 ],
 "metadata": {
  "kernelspec": {
   "display_name": "conda_pytorch_p36",
   "language": "python",
   "name": "conda_pytorch_p36"
  },
  "language_info": {
   "codemirror_mode": {
    "name": "ipython",
    "version": 3
   },
   "file_extension": ".py",
   "mimetype": "text/x-python",
   "name": "python",
   "nbconvert_exporter": "python",
   "pygments_lexer": "ipython3",
   "version": "3.6.10"
  }
 },
 "nbformat": 4,
 "nbformat_minor": 2
}
