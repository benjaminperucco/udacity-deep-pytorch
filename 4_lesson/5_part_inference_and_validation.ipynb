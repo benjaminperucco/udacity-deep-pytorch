{
 "cells": [
  {
   "cell_type": "markdown",
   "metadata": {},
   "source": [
    "# Inference and Validation\n",
    "\n",
    "Now that you have a trained network, you can use it for making predictions. This is typically called **inference**, a term borrowed from statistics. However, neural networks have a tendency to perform *too well* on the training data and aren't able to generalize to data that hasn't been seen before. This is called **overfitting** and it impairs inference performance. To test for overfitting while training, we measure the performance on data not in the training set called the **validation** set. We avoid overfitting through regularization such as dropout while monitoring the validation performance during training. In this notebook, I'll show you how to do this in PyTorch. \n",
    "\n",
    "As usual, let's start by loading the dataset through torchvision. You'll learn more about torchvision and loading data in a later part. This time we'll be taking advantage of the test set which you can get by setting `train=False` here:\n",
    "\n",
    "```python\n",
    "testset = datasets.FashionMNIST('~/.pytorch/F_MNIST_data/', download=True, train=False, transform=transform)\n",
    "```\n",
    "\n",
    "The test set contains images just like the training set. Typically you'll see 10-20% of the original dataset held out for testing and validation with the rest being used for training."
   ]
  },
  {
   "cell_type": "code",
   "execution_count": 1,
   "metadata": {},
   "outputs": [
    {
     "name": "stdout",
     "output_type": "stream",
     "text": [
      "Downloading http://fashion-mnist.s3-website.eu-central-1.amazonaws.com/train-images-idx3-ubyte.gz to /home/ec2-user/.pytorch/F_MNIST_data/FashionMNIST/raw/train-images-idx3-ubyte.gz\n"
     ]
    },
    {
     "data": {
      "application/vnd.jupyter.widget-view+json": {
       "model_id": "",
       "version_major": 2,
       "version_minor": 0
      },
      "text/plain": [
       "HBox(children=(FloatProgress(value=1.0, bar_style='info', max=1.0), HTML(value='')))"
      ]
     },
     "metadata": {},
     "output_type": "display_data"
    },
    {
     "name": "stdout",
     "output_type": "stream",
     "text": [
      "Extracting /home/ec2-user/.pytorch/F_MNIST_data/FashionMNIST/raw/train-images-idx3-ubyte.gz to /home/ec2-user/.pytorch/F_MNIST_data/FashionMNIST/raw\n",
      "Downloading http://fashion-mnist.s3-website.eu-central-1.amazonaws.com/train-labels-idx1-ubyte.gz to /home/ec2-user/.pytorch/F_MNIST_data/FashionMNIST/raw/train-labels-idx1-ubyte.gz\n"
     ]
    },
    {
     "data": {
      "application/vnd.jupyter.widget-view+json": {
       "model_id": "",
       "version_major": 2,
       "version_minor": 0
      },
      "text/plain": [
       "HBox(children=(FloatProgress(value=1.0, bar_style='info', max=1.0), HTML(value='')))"
      ]
     },
     "metadata": {},
     "output_type": "display_data"
    },
    {
     "name": "stdout",
     "output_type": "stream",
     "text": [
      "Extracting /home/ec2-user/.pytorch/F_MNIST_data/FashionMNIST/raw/train-labels-idx1-ubyte.gz to /home/ec2-user/.pytorch/F_MNIST_data/FashionMNIST/raw\n",
      "Downloading http://fashion-mnist.s3-website.eu-central-1.amazonaws.com/t10k-images-idx3-ubyte.gz to /home/ec2-user/.pytorch/F_MNIST_data/FashionMNIST/raw/t10k-images-idx3-ubyte.gz\n"
     ]
    },
    {
     "data": {
      "application/vnd.jupyter.widget-view+json": {
       "model_id": "",
       "version_major": 2,
       "version_minor": 0
      },
      "text/plain": [
       "HBox(children=(FloatProgress(value=1.0, bar_style='info', max=1.0), HTML(value='')))"
      ]
     },
     "metadata": {},
     "output_type": "display_data"
    },
    {
     "name": "stdout",
     "output_type": "stream",
     "text": [
      "Extracting /home/ec2-user/.pytorch/F_MNIST_data/FashionMNIST/raw/t10k-images-idx3-ubyte.gz to /home/ec2-user/.pytorch/F_MNIST_data/FashionMNIST/raw\n",
      "Downloading http://fashion-mnist.s3-website.eu-central-1.amazonaws.com/t10k-labels-idx1-ubyte.gz to /home/ec2-user/.pytorch/F_MNIST_data/FashionMNIST/raw/t10k-labels-idx1-ubyte.gz\n"
     ]
    },
    {
     "data": {
      "application/vnd.jupyter.widget-view+json": {
       "model_id": "",
       "version_major": 2,
       "version_minor": 0
      },
      "text/plain": [
       "HBox(children=(FloatProgress(value=1.0, bar_style='info', max=1.0), HTML(value='')))"
      ]
     },
     "metadata": {},
     "output_type": "display_data"
    },
    {
     "name": "stdout",
     "output_type": "stream",
     "text": [
      "Extracting /home/ec2-user/.pytorch/F_MNIST_data/FashionMNIST/raw/t10k-labels-idx1-ubyte.gz to /home/ec2-user/.pytorch/F_MNIST_data/FashionMNIST/raw\n",
      "Processing...\n",
      "Done!\n"
     ]
    }
   ],
   "source": [
    "import torch\n",
    "from torchvision import datasets, transforms\n",
    "\n",
    "# Define a transform to normalize the data\n",
    "transform = transforms.Compose([transforms.ToTensor(),\n",
    "                                transforms.Normalize((0.5,), (0.5,))])\n",
    "# Download and load the training data\n",
    "trainset = datasets.FashionMNIST('~/.pytorch/F_MNIST_data/', download=True, train=True, transform=transform)\n",
    "trainloader = torch.utils.data.DataLoader(trainset, batch_size=64, shuffle=True)\n",
    "\n",
    "# Download and load the test data\n",
    "testset = datasets.FashionMNIST('~/.pytorch/F_MNIST_data/', download=True, train=False, transform=transform)\n",
    "testloader = torch.utils.data.DataLoader(testset, batch_size=64, shuffle=True)"
   ]
  },
  {
   "cell_type": "markdown",
   "metadata": {},
   "source": [
    "Here I'll create a model like normal, using the same one from my solution for part 4."
   ]
  },
  {
   "cell_type": "code",
   "execution_count": 2,
   "metadata": {},
   "outputs": [],
   "source": [
    "from torch import nn, optim\n",
    "import torch.nn.functional as F\n",
    "\n",
    "class Classifier(nn.Module):\n",
    "    def __init__(self):\n",
    "        super().__init__()\n",
    "        self.fc1 = nn.Linear(784, 256)\n",
    "        self.fc2 = nn.Linear(256, 128)\n",
    "        self.fc3 = nn.Linear(128, 64)\n",
    "        self.fc4 = nn.Linear(64, 10)\n",
    "        \n",
    "    def forward(self, x):\n",
    "        # make sure input tensor is flattened\n",
    "        x = x.view(x.shape[0], -1)\n",
    "        \n",
    "        x = F.relu(self.fc1(x))\n",
    "        x = F.relu(self.fc2(x))\n",
    "        x = F.relu(self.fc3(x))\n",
    "        x = F.log_softmax(self.fc4(x), dim=1)\n",
    "        \n",
    "        return x"
   ]
  },
  {
   "cell_type": "markdown",
   "metadata": {},
   "source": [
    "The goal of validation is to measure the model's performance on data that isn't part of the training set. Performance here is up to the developer to define though. Typically this is just accuracy, the percentage of classes the network predicted correctly. Other options are [precision and recall](https://en.wikipedia.org/wiki/Precision_and_recall#Definition_(classification_context)) and top-5 error rate. We'll focus on accuracy here. First I'll do a forward pass with one batch from the test set."
   ]
  },
  {
   "cell_type": "code",
   "execution_count": 16,
   "metadata": {},
   "outputs": [],
   "source": [
    "images, labels = next(iter(testloader))"
   ]
  },
  {
   "cell_type": "code",
   "execution_count": 3,
   "metadata": {},
   "outputs": [
    {
     "name": "stdout",
     "output_type": "stream",
     "text": [
      "\n",
      "torch.Size([64, 10])\n"
     ]
    }
   ],
   "source": [
    "model = Classifier()\n",
    "\n",
    "images, labels = next(iter(testloader))\n",
    "# Get the class probabilities\n",
    "ps = torch.exp(model(images))\n",
    "# Make sure the shape is appropriate, we should get 10 class probabilities for 64 examples\n",
    "print(ps.shape)"
   ]
  },
  {
   "cell_type": "markdown",
   "metadata": {},
   "source": [
    "With the probabilities, we can get the most likely class using the `ps.topk` method. This returns the $k$ highest values. Since we just want the most likely class, we can use `ps.topk(1)`. This returns a tuple of the top-$k$ values and the top-$k$ indices. If the highest value is the fifth element, we'll get back 4 as the index."
   ]
  },
  {
   "cell_type": "code",
   "execution_count": 8,
   "metadata": {},
   "outputs": [
    {
     "name": "stdout",
     "output_type": "stream",
     "text": [
      "tensor([[7],\n",
      "        [7],\n",
      "        [7],\n",
      "        [7],\n",
      "        [7],\n",
      "        [7],\n",
      "        [7],\n",
      "        [7],\n",
      "        [7],\n",
      "        [7]])\n"
     ]
    }
   ],
   "source": [
    "top_p, top_class = ps.topk(1, dim=1)\n",
    "# Look at the most likely classes for the first 10 examples\n",
    "print(top_class[:10,:])"
   ]
  },
  {
   "cell_type": "markdown",
   "metadata": {},
   "source": [
    "Now we can check if the predicted classes match the labels. This is simple to do by equating `top_class` and `labels`, but we have to be careful of the shapes. Here `top_class` is a 2D tensor with shape `(64, 1)` while `labels` is 1D with shape `(64)`. To get the equality to work out the way we want, `top_class` and `labels` must have the same shape.\n",
    "\n",
    "If we do\n",
    "\n",
    "```python\n",
    "equals = top_class == labels\n",
    "```\n",
    "\n",
    "`equals` will have shape `(64, 64)`, try it yourself. What it's doing is comparing the one element in each row of `top_class` with each element in `labels` which returns 64 True/False boolean values for each row."
   ]
  },
  {
   "cell_type": "code",
   "execution_count": 12,
   "metadata": {},
   "outputs": [],
   "source": [
    "equals = top_class == labels.view(*top_class.shape)"
   ]
  },
  {
   "cell_type": "markdown",
   "metadata": {},
   "source": [
    "Now we need to calculate the percentage of correct predictions. `equals` has binary values, either 0 or 1. This means that if we just sum up all the values and divide by the number of values, we get the percentage of correct predictions. This is the same operation as taking the mean, so we can get the accuracy with a call to `torch.mean`. If only it was that simple. If you try `torch.mean(equals)`, you'll get an error\n",
    "\n",
    "```\n",
    "RuntimeError: mean is not implemented for type torch.ByteTensor\n",
    "```\n",
    "\n",
    "This happens because `equals` has type `torch.ByteTensor` but `torch.mean` isn't implemented for tensors with that type. So we'll need to convert `equals` to a float tensor. Note that when we take `torch.mean` it returns a scalar tensor, to get the actual value as a float we'll need to do `accuracy.item()`."
   ]
  },
  {
   "cell_type": "code",
   "execution_count": 6,
   "metadata": {},
   "outputs": [
    {
     "name": "stdout",
     "output_type": "stream",
     "text": [
      "Accuracy: 6.25%\n"
     ]
    }
   ],
   "source": [
    "accuracy = torch.mean(equals.type(torch.FloatTensor))\n",
    "print(f'Accuracy: {accuracy.item()*100}%')"
   ]
  },
  {
   "cell_type": "markdown",
   "metadata": {},
   "source": [
    "The network is untrained so it's making random guesses and we should see an accuracy around 10%. Now let's train our network and include our validation pass so we can measure how well the network is performing on the test set. Since we're not updating our parameters in the validation pass, we can speed up our code by turning off gradients using `torch.no_grad()`:\n",
    "\n",
    "```python\n",
    "# turn off gradients\n",
    "with torch.no_grad():\n",
    "    # validation pass here\n",
    "    for images, labels in testloader:\n",
    "        ...\n",
    "```\n",
    "\n",
    ">**Exercise:** Implement the validation loop below and print out the total accuracy after the loop. You can largely copy and paste the code from above, but I suggest typing it in because writing it out yourself is essential for building the skill. In general you'll always learn more by typing it rather than copy-pasting. You should be able to get an accuracy above 80%."
   ]
  },
  {
   "cell_type": "code",
   "execution_count": 36,
   "metadata": {},
   "outputs": [
    {
     "name": "stdout",
     "output_type": "stream",
     "text": [
      "Training started...\n",
      "\n",
      "\n",
      "====EPOCH 0====\n",
      "Training loss: 0.5188350757238454\n",
      "Test loss: 0.45617688081826374\n",
      "Accuracy: 0.8360867834394905\n",
      "\n",
      "====EPOCH 1====\n",
      "Training loss: 0.39446421881029603\n",
      "Test loss: 0.4012788909066255\n",
      "Accuracy: 0.8508160828025477\n",
      "\n",
      "====EPOCH 2====\n",
      "Training loss: 0.354571228985911\n",
      "Test loss: 0.37646793939505413\n",
      "Accuracy: 0.8633558917197452\n",
      "\n",
      "====EPOCH 3====\n",
      "Training loss: 0.3332101802534259\n",
      "Test loss: 0.44718673141898624\n",
      "Accuracy: 0.8466361464968153\n",
      "\n",
      "====EPOCH 4====\n",
      "Training loss: 0.3187903880532871\n",
      "Test loss: 0.3764453372283346\n",
      "Accuracy: 0.8642515923566879\n",
      "\n",
      "====EPOCH 5====\n",
      "Training loss: 0.3076319828994874\n",
      "Test loss: 0.36815039433871105\n",
      "Accuracy: 0.8703224522292994\n",
      "\n",
      "====EPOCH 6====\n",
      "Training loss: 0.28994070654357673\n",
      "Test loss: 0.3780224034740667\n",
      "Accuracy: 0.87390525477707\n",
      "\n",
      "====EPOCH 7====\n",
      "Training loss: 0.2845115133726012\n",
      "Test loss: 0.3666571784218785\n",
      "Accuracy: 0.8742038216560509\n",
      "\n",
      "====EPOCH 8====\n",
      "Training loss: 0.2725698952592893\n",
      "Test loss: 0.36666880510035593\n",
      "Accuracy: 0.8800756369426752\n",
      "\n",
      "====EPOCH 9====\n",
      "Training loss: 0.26763059045555493\n",
      "Test loss: 0.3725295762537391\n",
      "Accuracy: 0.8720143312101911\n",
      "\n",
      "====EPOCH 10====\n",
      "Training loss: 0.25287548885511946\n",
      "Test loss: 0.3795032573828272\n",
      "Accuracy: 0.8759952229299363\n",
      "\n",
      "====EPOCH 11====\n",
      "Training loss: 0.2549781046831595\n",
      "Test loss: 0.3689306358433074\n",
      "Accuracy: 0.8811703821656051\n",
      "\n",
      "====EPOCH 12====\n",
      "Training loss: 0.2496715203157938\n",
      "Test loss: 0.3817908761987261\n",
      "Accuracy: 0.8725119426751592\n",
      "\n",
      "====EPOCH 13====\n",
      "Training loss: 0.23553786861267426\n",
      "Test loss: 0.3646557743477214\n",
      "Accuracy: 0.8762937898089171\n",
      "\n",
      "====EPOCH 14====\n",
      "Training loss: 0.23427020346940453\n",
      "Test loss: 0.37494406512208805\n",
      "Accuracy: 0.8730095541401274\n",
      "\n",
      "====EPOCH 15====\n",
      "Training loss: 0.2305929438232867\n",
      "Test loss: 0.37838050836970094\n",
      "Accuracy: 0.8755971337579618\n",
      "\n",
      "====EPOCH 16====\n",
      "Training loss: 0.2322366441697327\n",
      "Test loss: 0.3861915209111135\n",
      "Accuracy: 0.8763933121019108\n",
      "\n",
      "====EPOCH 17====\n",
      "Training loss: 0.22473896933850576\n",
      "Test loss: 0.3846622587768895\n",
      "Accuracy: 0.8792794585987261\n",
      "\n",
      "====EPOCH 18====\n",
      "Training loss: 0.2121389359950638\n",
      "Test loss: 0.38836618332536355\n",
      "Accuracy: 0.8782842356687898\n",
      "\n",
      "====EPOCH 19====\n",
      "Training loss: 0.21286404319504684\n",
      "Test loss: 0.3928637132523166\n",
      "Accuracy: 0.8794785031847133\n",
      "\n",
      "====EPOCH 20====\n",
      "Training loss: 0.20667732904937222\n",
      "Test loss: 0.42135989713441035\n",
      "Accuracy: 0.8796775477707006\n",
      "\n",
      "====EPOCH 21====\n",
      "Training loss: 0.2095364348402918\n",
      "Test loss: 0.3934530937557767\n",
      "Accuracy: 0.8826632165605095\n",
      "\n",
      "====EPOCH 22====\n",
      "Training loss: 0.20258970983993652\n",
      "Test loss: 0.3736035264791197\n",
      "Accuracy: 0.880672770700637\n",
      "\n",
      "====EPOCH 23====\n",
      "Training loss: 0.19527137908997186\n",
      "Test loss: 0.40656320627327935\n",
      "Accuracy: 0.8755971337579618\n",
      "\n",
      "====EPOCH 24====\n",
      "Training loss: 0.19666875390880018\n",
      "Test loss: 0.3736938736905718\n",
      "Accuracy: 0.8831608280254777\n",
      "\n",
      "====EPOCH 25====\n",
      "Training loss: 0.19628153907766602\n",
      "Test loss: 0.39894531757398777\n",
      "Accuracy: 0.8813694267515924\n",
      "\n",
      "====EPOCH 26====\n",
      "Training loss: 0.19351058905678137\n",
      "Test loss: 0.42191179723117\n",
      "Accuracy: 0.8778861464968153\n",
      "\n",
      "====EPOCH 27====\n",
      "Training loss: 0.18254733636681394\n",
      "Test loss: 0.40744658076696716\n",
      "Accuracy: 0.8807722929936306\n",
      "\n",
      "====EPOCH 28====\n",
      "Training loss: 0.1833907391494716\n",
      "Test loss: 0.4419808109190054\n",
      "Accuracy: 0.882265127388535\n",
      "\n",
      "====EPOCH 29====\n",
      "Training loss: 0.1838489067234369\n",
      "Test loss: 0.4237320009785093\n",
      "Accuracy: 0.8740047770700637\n",
      "\n",
      "Training finished\n"
     ]
    }
   ],
   "source": [
    "model = Classifier()\n",
    "criterion = nn.NLLLoss()\n",
    "optimizer = optim.Adam(model.parameters(), lr=0.003)\n",
    "\n",
    "epochs = 30\n",
    "steps = 0\n",
    "\n",
    "print('Training started...\\n')\n",
    "train_losses, test_losses, accuracy = [], [], []\n",
    "for e in range(epochs):\n",
    "    train_loss = 0\n",
    "    test_loss = 0\n",
    "    accuracy_local = 0\n",
    "    for images, labels in trainloader:\n",
    "        \n",
    "        optimizer.zero_grad()\n",
    "        \n",
    "        log_ps = model(images)\n",
    "        loss = criterion(log_ps, labels)\n",
    "        loss.backward()\n",
    "        optimizer.step()\n",
    "        \n",
    "        train_loss += loss.item()\n",
    "    \n",
    "    # log the training loss\n",
    "    total_train_loss = train_loss / len(trainloader)\n",
    "    train_losses.append(total_train_loss)\n",
    "        \n",
    "    # implement the validation pass and print out the validation accuracy\n",
    "    with torch.no_grad():\n",
    "        \n",
    "        for images, labels in testloader:\n",
    "            \n",
    "            log_ps = model(images)\n",
    "            loss = criterion(log_ps, labels)\n",
    "        \n",
    "            test_loss += loss.item()\n",
    "            \n",
    "            # determine iteration accuracy\n",
    "            ps = torch.exp(log_ps)\n",
    "            top_p, top_class = ps.topk(1, dim=1)\n",
    "            equals = top_class == labels.view(*top_class.shape)\n",
    "            accuracy_local += torch.mean(equals.type(torch.FloatTensor)).item() # local accuracy\n",
    "    \n",
    "    # log the test loss\n",
    "    total_test_loss = test_loss / len(testloader)\n",
    "    test_losses.append(total_test_loss)\n",
    "    \n",
    "    # log the accuracy\n",
    "    total_accuracy = accuracy_local / len(testloader)\n",
    "    accuracy.append(total_accuracy)\n",
    "    \n",
    "    print('\\n====EPOCH {}===='.format(e))\n",
    "    print('Training loss: {}'.format(total_train_loss))\n",
    "    print('Test loss: {}'.format(total_test_loss))\n",
    "    print('Accuracy: {}'.format(total_accuracy))\n",
    "    \n",
    "print('\\nTraining finished')"
   ]
  },
  {
   "cell_type": "markdown",
   "metadata": {},
   "source": [
    "### Plot"
   ]
  },
  {
   "cell_type": "code",
   "execution_count": 23,
   "metadata": {},
   "outputs": [],
   "source": [
    "import matplotlib.pyplot as plt\n",
    "import seaborn as sns\n",
    "import pandas as pd"
   ]
  },
  {
   "cell_type": "code",
   "execution_count": 37,
   "metadata": {},
   "outputs": [],
   "source": [
    "data_dict = {\n",
    "    'training': train_losses,\n",
    "    'test': test_losses,\n",
    "    'accuracy': accuracy\n",
    "}"
   ]
  },
  {
   "cell_type": "code",
   "execution_count": 38,
   "metadata": {},
   "outputs": [
    {
     "data": {
      "image/png": "[encoded data removed]",
      "text/plain": [
       "<Figure size 432x288 with 1 Axes>"
      ]
     },
     "metadata": {
      "needs_background": "light"
     },
     "output_type": "display_data"
    }
   ],
   "source": [
    "plot = sns.lineplot(data=pd.DataFrame.from_dict(data_dict))"
   ]
  },
  {
   "cell_type": "markdown",
   "metadata": {},
   "source": [
    "## Overfitting\n",
    "\n",
    "If we look at the training and validation losses as we train the network, we can see a phenomenon known as overfitting.\n",
    "\n",
    "<img src='assets/overfitting.png' width=450px>\n",
    "\n",
    "The network learns the training set better and better, resulting in lower training losses. However, it starts having problems generalizing to data outside the training set leading to the validation loss increasing. The ultimate goal of any deep learning model is to make predictions on new data, so we should strive to get the lowest validation loss possible. One option is to use the version of the model with the lowest validation loss, here the one around 8-10 training epochs. This strategy is called *early-stopping*. In practice, you'd save the model frequently as you're training then later choose the model with the lowest validation loss.\n",
    "\n",
    "The most common method to reduce overfitting (outside of early-stopping) is *dropout*, where we randomly drop input units. This forces the network to share information between weights, increasing it's ability to generalize to new data. Adding dropout in PyTorch is straightforward using the [`nn.Dropout`](https://pytorch.org/docs/stable/nn.html#torch.nn.Dropout) module.\n",
    "\n",
    "```python\n",
    "class Classifier(nn.Module):\n",
    "    def __init__(self):\n",
    "        super().__init__()\n",
    "        self.fc1 = nn.Linear(784, 256)\n",
    "        self.fc2 = nn.Linear(256, 128)\n",
    "        self.fc3 = nn.Linear(128, 64)\n",
    "        self.fc4 = nn.Linear(64, 10)\n",
    "        \n",
    "        # Dropout module with 0.2 drop probability\n",
    "        self.dropout = nn.Dropout(p=0.2)\n",
    "        \n",
    "    def forward(self, x):\n",
    "        # make sure input tensor is flattened\n",
    "        x = x.view(x.shape[0], -1)\n",
    "        \n",
    "        # Now with dropout\n",
    "        x = self.dropout(F.relu(self.fc1(x)))\n",
    "        x = self.dropout(F.relu(self.fc2(x)))\n",
    "        x = self.dropout(F.relu(self.fc3(x)))\n",
    "        \n",
    "        # output so no dropout here\n",
    "        x = F.log_softmax(self.fc4(x), dim=1)\n",
    "        \n",
    "        return x\n",
    "```\n",
    "\n",
    "During training we want to use dropout to prevent overfitting, but during inference we want to use the entire network. So, we need to turn off dropout during validation, testing, and whenever we're using the network to make predictions. To do this, you use `model.eval()`. This sets the model to evaluation mode where the dropout probability is 0. You can turn dropout back on by setting the model to train mode with `model.train()`. In general, the pattern for the validation loop will look like this, where you turn off gradients, set the model to evaluation mode, calculate the validation loss and metric, then set the model back to train mode.\n",
    "\n",
    "```python\n",
    "# turn off gradients\n",
    "with torch.no_grad():\n",
    "    \n",
    "    # set model to evaluation mode\n",
    "    model.eval()\n",
    "    \n",
    "    # validation pass here\n",
    "    for images, labels in testloader:\n",
    "        ...\n",
    "\n",
    "# set model back to train mode\n",
    "model.train()\n",
    "```"
   ]
  },
  {
   "cell_type": "markdown",
   "metadata": {},
   "source": [
    "> **Exercise:** Add dropout to your model and train it on Fashion-MNIST again. See if you can get a lower validation loss or higher accuracy."
   ]
  },
  {
   "cell_type": "code",
   "execution_count": 51,
   "metadata": {},
   "outputs": [],
   "source": [
    "## TODO: Define your model with dropout added\n",
    "from torch import nn, optim\n",
    "import torch.nn.functional as F\n",
    "\n",
    "class Classifier(nn.Module):\n",
    "    def __init__(self):\n",
    "        super().__init__()\n",
    "        self.fc1 = nn.Linear(784, 256)\n",
    "        self.fc2 = nn.Linear(256, 128)\n",
    "        self.fc3 = nn.Linear(128, 64)\n",
    "        self.fc4 = nn.Linear(64, 10)\n",
    "        \n",
    "        # dropout module with 0.2 drop probability\n",
    "        self.dropout = nn.Dropout(p=0.2)\n",
    "        \n",
    "    def forward(self, x):\n",
    "        # make sure input tensor is flattened\n",
    "        x = x.view(x.shape[0], -1)\n",
    "        \n",
    "        x = self.dropout(F.relu(self.fc1(x)))\n",
    "        x = self.dropout(F.relu(self.fc2(x)))\n",
    "        x = self.dropout(F.relu(self.fc3(x)))\n",
    "        x = F.log_softmax(self.fc4(x), dim=1)\n",
    "        \n",
    "        return x"
   ]
  },
  {
   "cell_type": "code",
   "execution_count": 52,
   "metadata": {},
   "outputs": [
    {
     "name": "stdout",
     "output_type": "stream",
     "text": [
      "Training started...\n",
      "\n",
      "\n",
      "====EPOCH 0====\n",
      "Training loss: 0.6050034681998336\n",
      "Test loss: 0.4764383685816625\n",
      "Accuracy: 0.8293192675159236\n",
      "\n",
      "====EPOCH 1====\n",
      "Training loss: 0.48467885655190135\n",
      "Test loss: 0.45701610833216627\n",
      "Accuracy: 0.837281050955414\n",
      "\n",
      "====EPOCH 2====\n",
      "Training loss: 0.4491230440038099\n",
      "Test loss: 0.4127195706223227\n",
      "Accuracy: 0.8509156050955414\n",
      "\n",
      "====EPOCH 3====\n",
      "Training loss: 0.42976712815161705\n",
      "Test loss: 0.4102145711517638\n",
      "Accuracy: 0.8519108280254777\n",
      "\n",
      "====EPOCH 4====\n",
      "Training loss: 0.4220874718447992\n",
      "Test loss: 0.40326233872562456\n",
      "Accuracy: 0.854796974522293\n",
      "\n",
      "====EPOCH 5====\n",
      "Training loss: 0.4090461691559505\n",
      "Test loss: 0.39477047134356896\n",
      "Accuracy: 0.8583797770700637\n",
      "\n",
      "====EPOCH 6====\n",
      "Training loss: 0.40169002631230394\n",
      "Test loss: 0.40607725966508224\n",
      "Accuracy: 0.8562898089171974\n",
      "\n",
      "====EPOCH 7====\n",
      "Training loss: 0.398404334733354\n",
      "Test loss: 0.38785581328686636\n",
      "Accuracy: 0.8608678343949044\n",
      "\n",
      "====EPOCH 8====\n",
      "Training loss: 0.39627303168781275\n",
      "Test loss: 0.38562359969327403\n",
      "Accuracy: 0.8607683121019108\n",
      "\n",
      "====EPOCH 9====\n",
      "Training loss: 0.38937233731563664\n",
      "Test loss: 0.3943228795649899\n",
      "Accuracy: 0.8570859872611465\n",
      "\n",
      "====EPOCH 10====\n",
      "Training loss: 0.38851868056221556\n",
      "Test loss: 0.3979511219225112\n",
      "Accuracy: 0.8543988853503185\n",
      "\n",
      "====EPOCH 11====\n",
      "Training loss: 0.3828695132724766\n",
      "Test loss: 0.39335296677935655\n",
      "Accuracy: 0.8628582802547771\n",
      "\n",
      "====EPOCH 12====\n",
      "Training loss: 0.3800135267886526\n",
      "Test loss: 0.38409985317166445\n",
      "Accuracy: 0.8611664012738853\n",
      "\n",
      "====EPOCH 13====\n",
      "Training loss: 0.38015636991558555\n",
      "Test loss: 0.381177736695405\n",
      "Accuracy: 0.8651472929936306\n",
      "\n",
      "====EPOCH 14====\n",
      "Training loss: 0.3689488683666375\n",
      "Test loss: 0.385259684104069\n",
      "Accuracy: 0.8708200636942676\n",
      "\n",
      "====EPOCH 15====\n",
      "Training loss: 0.3721863816478359\n",
      "Test loss: 0.3974786629532553\n",
      "Accuracy: 0.8657444267515924\n",
      "\n",
      "====EPOCH 16====\n",
      "Training loss: 0.3554716212059389\n",
      "Test loss: 0.3840812464618379\n",
      "Accuracy: 0.8659434713375797\n",
      "\n",
      "====EPOCH 17====\n",
      "Training loss: 0.36205694938837085\n",
      "Test loss: 0.38852725562396323\n",
      "Accuracy: 0.862062101910828\n",
      "\n",
      "====EPOCH 18====\n",
      "Training loss: 0.3598545785111659\n",
      "Test loss: 0.3850837246437741\n",
      "Accuracy: 0.8621616242038217\n",
      "\n",
      "====EPOCH 19====\n",
      "Training loss: 0.36294055100220607\n",
      "Test loss: 0.39344773835437313\n",
      "Accuracy: 0.8661425159235668\n",
      "\n",
      "====EPOCH 20====\n",
      "Training loss: 0.3629323846495736\n",
      "Test loss: 0.39587372161780193\n",
      "Accuracy: 0.8581807324840764\n",
      "\n",
      "====EPOCH 21====\n",
      "Training loss: 0.3569464272400464\n",
      "Test loss: 0.4047817939026341\n",
      "Accuracy: 0.8648487261146497\n",
      "\n",
      "====EPOCH 22====\n",
      "Training loss: 0.3500533969099842\n",
      "Test loss: 0.384569355162086\n",
      "Accuracy: 0.8645501592356688\n",
      "\n",
      "====EPOCH 23====\n",
      "Training loss: 0.3496254519708375\n",
      "Test loss: 0.3917184753972254\n",
      "Accuracy: 0.8684315286624203\n",
      "\n",
      "====EPOCH 24====\n",
      "Training loss: 0.3562682241535009\n",
      "Test loss: 0.381567453123202\n",
      "Accuracy: 0.87390525477707\n",
      "\n",
      "====EPOCH 25====\n",
      "Training loss: 0.35009694416353954\n",
      "Test loss: 0.3762125534236811\n",
      "Accuracy: 0.8636544585987261\n",
      "\n",
      "====EPOCH 26====\n",
      "Training loss: 0.35174800554858343\n",
      "Test loss: 0.39512446983035204\n",
      "Accuracy: 0.8605692675159236\n",
      "\n",
      "====EPOCH 27====\n",
      "Training loss: 0.3518363295007807\n",
      "Test loss: 0.3780819423449267\n",
      "Accuracy: 0.8740047770700637\n",
      "\n",
      "====EPOCH 28====\n",
      "Training loss: 0.3414134338720521\n",
      "Test loss: 0.38380850832553426\n",
      "Accuracy: 0.8721138535031847\n",
      "\n",
      "====EPOCH 29====\n",
      "Training loss: 0.3378597257901102\n",
      "Test loss: 0.41659218058654457\n",
      "Accuracy: 0.8668391719745223\n",
      "\n",
      "Training finished\n"
     ]
    }
   ],
   "source": [
    "## TODO: Train your model with dropout, and monitor the training progress with the validation loss and accuracy\n",
    "model = Classifier()\n",
    "criterion = nn.NLLLoss()\n",
    "optimizer = optim.Adam(model.parameters(), lr=0.003)\n",
    "\n",
    "epochs = 30\n",
    "steps = 0\n",
    "\n",
    "print('Training started...\\n')\n",
    "train_losses, test_losses, accuracy = [], [], []\n",
    "for e in range(epochs):\n",
    "    train_loss = 0\n",
    "    test_loss = 0\n",
    "    accuracy_local = 0\n",
    "    \n",
    "    model.train() # set model to train mode\n",
    "    for images, labels in trainloader:\n",
    "        \n",
    "        optimizer.zero_grad()\n",
    "        \n",
    "        log_ps = model(images)\n",
    "        loss = criterion(log_ps, labels)\n",
    "        loss.backward()\n",
    "        optimizer.step()\n",
    "        \n",
    "        train_loss += loss.item()\n",
    "    \n",
    "    # log the training loss\n",
    "    total_train_loss = train_loss / len(trainloader)\n",
    "    train_losses.append(total_train_loss)\n",
    "        \n",
    "    # implement the validation pass and print out the validation accuracy\n",
    "    model.eval() # set model to evaluation mode\n",
    "    with torch.no_grad():\n",
    "        \n",
    "        for images, labels in testloader:\n",
    "            \n",
    "            log_ps = model(images)\n",
    "            loss = criterion(log_ps, labels)\n",
    "        \n",
    "            test_loss += loss.item()\n",
    "            \n",
    "            # determine iteration accuracy\n",
    "            ps = torch.exp(log_ps)\n",
    "            top_p, top_class = ps.topk(1, dim=1)\n",
    "            equals = top_class == labels.view(*top_class.shape)\n",
    "            accuracy_local += torch.mean(equals.type(torch.FloatTensor)).item() # local accuracy\n",
    "    \n",
    "    # log the test loss\n",
    "    total_test_loss = test_loss / len(testloader)\n",
    "    test_losses.append(total_test_loss)\n",
    "    \n",
    "    # log the accuracy\n",
    "    total_accuracy = accuracy_local / len(testloader)\n",
    "    accuracy.append(total_accuracy)\n",
    "    \n",
    "    print('\\n====EPOCH {}===='.format(e))\n",
    "    print('Training loss: {}'.format(total_train_loss))\n",
    "    print('Test loss: {}'.format(total_test_loss))\n",
    "    print('Accuracy: {}'.format(total_accuracy))\n",
    "    \n",
    "print('\\nTraining finished')"
   ]
  },
  {
   "cell_type": "markdown",
   "metadata": {},
   "source": [
    "### Plot again"
   ]
  },
  {
   "cell_type": "code",
   "execution_count": 53,
   "metadata": {},
   "outputs": [],
   "source": [
    "data_dict = {\n",
    "    'training': train_losses,\n",
    "    'test': test_losses,\n",
    "    'accuracy': accuracy\n",
    "}"
   ]
  },
  {
   "cell_type": "code",
   "execution_count": 54,
   "metadata": {},
   "outputs": [
    {
     "data": {
      "image/png": "[encoded data removed]",
      "text/plain": [
       "<Figure size 432x288 with 1 Axes>"
      ]
     },
     "metadata": {
      "needs_background": "light"
     },
     "output_type": "display_data"
    }
   ],
   "source": [
    "plot = sns.lineplot(data=pd.DataFrame.from_dict(data_dict))"
   ]
  },
  {
   "cell_type": "markdown",
   "metadata": {},
   "source": [
    "## Inference\n",
    "\n",
    "Now that the model is trained, we can use it for inference. We've done this before, but now we need to remember to set the model in inference mode with `model.eval()`. You'll also want to turn off autograd with the `torch.no_grad()` context."
   ]
  },
  {
   "cell_type": "code",
   "execution_count": 61,
   "metadata": {},
   "outputs": [
    {
     "data": {
      "image/png": "[encoded data removed]",
      "text/plain": [
       "<Figure size 432x648 with 2 Axes>"
      ]
     },
     "metadata": {
      "needs_background": "light"
     },
     "output_type": "display_data"
    }
   ],
   "source": [
    "# Import helper module (should be in the repo)\n",
    "import helper\n",
    "\n",
    "# Test out your network!\n",
    "\n",
    "model.eval()\n",
    "\n",
    "dataiter = iter(testloader)\n",
    "images, labels = dataiter.next()\n",
    "img = images[0]\n",
    "# Convert 2D image to 1D vector\n",
    "img = img.view(1, 784)\n",
    "\n",
    "# Calculate the class probabilities (softmax) for img\n",
    "with torch.no_grad():\n",
    "    output = model.forward(img)\n",
    "\n",
    "ps = torch.exp(output)\n",
    "\n",
    "# Plot the image and probabilities\n",
    "helper.view_classify(img.view(1, 28, 28), ps, version='Fashion')"
   ]
  },
  {
   "cell_type": "markdown",
   "metadata": {},
   "source": [
    "## Next Up!\n",
    "\n",
    "In the next part, I'll show you how to save your trained models. In general, you won't want to train a model everytime you need it. Instead, you'll train once, save it, then load the model when you want to train more or use if for inference."
   ]
  }
 ],
 "metadata": {
  "kernelspec": {
   "display_name": "conda_pytorch_p36",
   "language": "python",
   "name": "conda_pytorch_p36"
  },
  "language_info": {
   "codemirror_mode": {
    "name": "ipython",
    "version": 3
   },
   "file_extension": ".py",
   "mimetype": "text/x-python",
   "name": "python",
   "nbconvert_exporter": "python",
   "pygments_lexer": "ipython3",
   "version": "3.6.10"
  }
 },
 "nbformat": 4,
 "nbformat_minor": 2
}
