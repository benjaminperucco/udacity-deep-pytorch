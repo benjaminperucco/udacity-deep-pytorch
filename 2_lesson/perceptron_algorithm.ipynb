{
 "cells": [
  {
   "cell_type": "markdown",
   "metadata": {},
   "source": [
    "# Perceptron algorithm"
   ]
  },
  {
   "cell_type": "code",
   "execution_count": 1,
   "metadata": {},
   "outputs": [],
   "source": [
    "# define required libraries\n",
    "import numpy as np\n",
    "import pandas as pd\n",
    "import random\n",
    "from sklearn.metrics import accuracy_score\n",
    "import matplotlib.pyplot as plt\n",
    "import seaborn as sns"
   ]
  },
  {
   "cell_type": "code",
   "execution_count": 2,
   "metadata": {},
   "outputs": [
    {
     "data": {
      "text/html": [
       "<div>\n",
       "<style scoped>\n",
       "    .dataframe tbody tr th:only-of-type {\n",
       "        vertical-align: middle;\n",
       "    }\n",
       "\n",
       "    .dataframe tbody tr th {\n",
       "        vertical-align: top;\n",
       "    }\n",
       "\n",
       "    .dataframe thead th {\n",
       "        text-align: right;\n",
       "    }\n",
       "</style>\n",
       "<table border=\"1\" class=\"dataframe\">\n",
       "  <thead>\n",
       "    <tr style=\"text-align: right;\">\n",
       "      <th></th>\n",
       "      <th>x1</th>\n",
       "      <th>x2</th>\n",
       "      <th>y</th>\n",
       "    </tr>\n",
       "  </thead>\n",
       "  <tbody>\n",
       "    <tr>\n",
       "      <th>0</th>\n",
       "      <td>0.78051</td>\n",
       "      <td>-0.063669</td>\n",
       "      <td>1</td>\n",
       "    </tr>\n",
       "    <tr>\n",
       "      <th>1</th>\n",
       "      <td>0.28774</td>\n",
       "      <td>0.291390</td>\n",
       "      <td>1</td>\n",
       "    </tr>\n",
       "    <tr>\n",
       "      <th>2</th>\n",
       "      <td>0.40714</td>\n",
       "      <td>0.178780</td>\n",
       "      <td>1</td>\n",
       "    </tr>\n",
       "    <tr>\n",
       "      <th>3</th>\n",
       "      <td>0.29230</td>\n",
       "      <td>0.421700</td>\n",
       "      <td>1</td>\n",
       "    </tr>\n",
       "    <tr>\n",
       "      <th>4</th>\n",
       "      <td>0.50922</td>\n",
       "      <td>0.352560</td>\n",
       "      <td>1</td>\n",
       "    </tr>\n",
       "  </tbody>\n",
       "</table>\n",
       "</div>"
      ],
      "text/plain": [
       "        x1        x2  y\n",
       "0  0.78051 -0.063669  1\n",
       "1  0.28774  0.291390  1\n",
       "2  0.40714  0.178780  1\n",
       "3  0.29230  0.421700  1\n",
       "4  0.50922  0.352560  1"
      ]
     },
     "execution_count": 2,
     "metadata": {},
     "output_type": "execute_result"
    }
   ],
   "source": [
    "# read test data\n",
    "data = pd.read_csv('data.csv')\n",
    "data.head()"
   ]
  },
  {
   "cell_type": "code",
   "execution_count": 3,
   "metadata": {},
   "outputs": [],
   "source": [
    "# create numpy arrays\n",
    "X = data[['x1', 'x2']].to_numpy()\n",
    "y = data.y.to_numpy()"
   ]
  },
  {
   "cell_type": "code",
   "execution_count": 4,
   "metadata": {},
   "outputs": [],
   "source": [
    "def step_function(x):\n",
    "    \"\"\"\n",
    "    Step function definition.\n",
    "    \"\"\"\n",
    "    if x >= 0:\n",
    "        y = 1\n",
    "    else:\n",
    "        y = 0\n",
    "    return y"
   ]
  },
  {
   "cell_type": "code",
   "execution_count": 5,
   "metadata": {},
   "outputs": [],
   "source": [
    "def predict_perceptron(X, W, b):\n",
    "    \"\"\"\n",
    "    Predict perceptron algorithm based on input X, weights W and bias b.\n",
    "    \"\"\"\n",
    "    y_hat = X[:, 1].copy()\n",
    "    for i in range(len(y)):\n",
    "        \n",
    "        # make linear combination and apply step function\n",
    "        y_hat[i] = step_function(float(np.matmul(W, X[i]) + b))\n",
    "    \n",
    "    return y_hat"
   ]
  },
  {
   "cell_type": "code",
   "execution_count": 6,
   "metadata": {},
   "outputs": [],
   "source": [
    "def learning_step(X, y, W, b, learning_rate):\n",
    "    \"\"\"\n",
    "    Update weights W and bias b.\n",
    "    \"\"\"\n",
    "    y_hat = predict_perceptron(X, W, b)\n",
    "    \n",
    "    for i in range(len(y_hat)):\n",
    "        \n",
    "        # if the point is classified positive, but it has a negative label, subtract\n",
    "        if y[i] - y_hat[i] == -1:\n",
    "            W -= X[i] * learning_rate\n",
    "            b -= b * learning_rate\n",
    "        \n",
    "        # if the point is classified negative, but it has a positive label, add\n",
    "        if y[i] - y_hat[i] == 1:\n",
    "            W += X[i] * learning_rate\n",
    "            b += b * learning_rate\n",
    "    \n",
    "    return W, b"
   ]
  },
  {
   "cell_type": "code",
   "execution_count": 7,
   "metadata": {},
   "outputs": [],
   "source": [
    "def fit_perceptron(X, y, learning_rate=0.01, num_epochs=10, set_seed=4):\n",
    "    \"\"\"\n",
    "    Fit perceptron algorithm.\n",
    "    \n",
    "    Args:\n",
    "    - X (numpy arry): Features.\n",
    "    - y (numpy array): Labels.\n",
    "    - learning_rate (float): Learning rate.\n",
    "    - num_epochs (int): Number of iterations.\n",
    "    - set_seed (int): Seed for initialization.\n",
    "    \n",
    "    Returns:\n",
    "    - W (numpy array): Achieved weights (model result).\n",
    "    - b (float): Achieved bias (model result).\n",
    "    \"\"\"\n",
    "    # set seet to reproduce results\n",
    "    random.seed(set_seed)\n",
    "    \n",
    "    # determine dimensions\n",
    "    ncol = X.shape[1]\n",
    "    \n",
    "    # initialize weights\n",
    "    W = np.array([random.random() for i in range(ncol)])\n",
    "    \n",
    "    # initialize bias\n",
    "    b = random.random()\n",
    "    \n",
    "    # update weights\n",
    "    for i in range(num_epochs):\n",
    "        if (i + 1) % 10 == 0:\n",
    "            print('epoch: {}/{}'.format(i + 1, num_epochs))\n",
    "        W, b = learning_step(X, y, W, b, learning_rate)\n",
    "    \n",
    "    return W, b"
   ]
  },
  {
   "cell_type": "markdown",
   "metadata": {},
   "source": [
    "## Fit perceptron model"
   ]
  },
  {
   "cell_type": "code",
   "execution_count": 8,
   "metadata": {},
   "outputs": [
    {
     "name": "stdout",
     "output_type": "stream",
     "text": [
      "epoch: 10/50\n",
      "epoch: 20/50\n",
      "epoch: 30/50\n",
      "epoch: 40/50\n",
      "epoch: 50/50\n"
     ]
    }
   ],
   "source": [
    "W, b = fit_perceptron(X, y, learning_rate=0.01, num_epochs=50)"
   ]
  },
  {
   "cell_type": "code",
   "execution_count": 9,
   "metadata": {},
   "outputs": [
    {
     "name": "stdout",
     "output_type": "stream",
     "text": [
      "final accuracy score: 94.0 %\n"
     ]
    }
   ],
   "source": [
    "y_hat = predict_perceptron(X, W, b)\n",
    "print('final accuracy score: {} %'.format(accuracy_score(y, y_hat) * 100))"
   ]
  },
  {
   "cell_type": "markdown",
   "metadata": {},
   "source": [
    "## Plot model line"
   ]
  },
  {
   "cell_type": "code",
   "execution_count": 10,
   "metadata": {},
   "outputs": [],
   "source": [
    "def plot_line(W, b, x):\n",
    "    y = x.copy()\n",
    "    for i in range(len(x)):\n",
    "        y[i] = (- b - W[1] * x[i]) / W[0]\n",
    "    \n",
    "    return y"
   ]
  },
  {
   "cell_type": "code",
   "execution_count": 11,
   "metadata": {},
   "outputs": [],
   "source": [
    "# define x1 and x2\n",
    "x1 = np.arange(0, 1, 0.1)\n",
    "x2 = plot_line(W, b, x1)"
   ]
  },
  {
   "cell_type": "code",
   "execution_count": 12,
   "metadata": {},
   "outputs": [
    {
     "data": {
      "image/png": "[encoded data removed]",
      "text/plain": [
       "<Figure size 540x360 with 1 Axes>"
      ]
     },
     "metadata": {
      "needs_background": "light"
     },
     "output_type": "display_data"
    }
   ],
   "source": [
    "fg = sns.FacetGrid(data=data, hue='y', height=5, aspect=1.5)\n",
    "fg.map(plt.scatter, 'x1', 'x2')\n",
    "fg.axes[0, 0].plot(x1, x2)\n",
    "plt.show()"
   ]
  },
  {
   "cell_type": "code",
   "execution_count": null,
   "metadata": {},
   "outputs": [],
   "source": []
  }
 ],
 "metadata": {
  "kernelspec": {
   "display_name": "Python 3",
   "language": "python",
   "name": "python3"
  },
  "language_info": {
   "codemirror_mode": {
    "name": "ipython",
    "version": 3
   },
   "file_extension": ".py",
   "mimetype": "text/x-python",
   "name": "python",
   "nbconvert_exporter": "python",
   "pygments_lexer": "ipython3",
   "version": "3.9.1"
  }
 },
 "nbformat": 4,
 "nbformat_minor": 4
}
